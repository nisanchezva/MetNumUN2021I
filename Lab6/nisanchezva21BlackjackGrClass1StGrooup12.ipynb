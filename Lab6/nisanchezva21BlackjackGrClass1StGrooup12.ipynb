{
  "nbformat": 4,
  "nbformat_minor": 0,
  "metadata": {
    "colab": {
      "name": "nisanchezva21BlackjackGrClass1StGrooup12.ipynb",
      "provenance": [],
      "collapsed_sections": []
    },
    "kernelspec": {
      "name": "python3",
      "display_name": "Python 3"
    }
  },
  "cells": [
    {
      "cell_type": "markdown",
      "metadata": {
        "id": "snJljcNYRhje"
      },
      "source": [
        "# **1.**"
      ]
    },
    {
      "cell_type": "markdown",
      "metadata": {
        "id": "KWHI5LtNtsKg"
      },
      "source": [
        "# ***Baraja Española*** \n"
      ]
    },
    {
      "cell_type": "code",
      "metadata": {
        "id": "2Y2gNyPB0Rp_",
        "colab": {
          "base_uri": "https://localhost:8080/",
          "height": 282
        },
        "outputId": "b4d97e7a-90b3-47d4-c5f2-ba05a2891cc6"
      },
      "source": [
        "import random as r\n",
        "import matplotlib.pyplot as plt\n",
        "\n",
        "n = 10000000 #cantidad de repeticiones\n",
        "count =0\n",
        "avcnc=0\n",
        "mnc21=[]\n",
        "for i in range (n):\n",
        "    deck= [1,2,3,4,5,6,7,8,9,10,11,12,1,2,3,4,5,6,7,8,9,10,11,12,1,2,3,4,5,6,7,8,9,10,11,12,1,2,3,4,5,6,7,8,9,10,11,12] # mazo de cartas español\n",
        "    my_cards=[]\n",
        "    nc=0\n",
        "    while(sum(my_cards)<21):\n",
        "        card = r.choice(deck) # elige una carta aleatoria\n",
        "        my_cards.append(card) # pone la carta elegina en la mano\n",
        "        deck.remove(card)     #remuevo la carta del mazo\n",
        "        nc+= 1\n",
        "    if (sum(my_cards)==21):\n",
        "        count = count +1     #cantidad de veces que gana el 21\n",
        "        avcnc = avcnc + nc   #cantidad de cartas que ha seleccionado para ganar acumuladas\n",
        "        mnc21.append(nc)     # mano de cartas\n",
        "print(\"probabibilidad de tener 21 es de \" , count/n,\",cartas promedio por mano\", avcnc/count, \",maximo número de cartas para tener 21 =\",max(mnc21))\n",
        "plt.hist(mnc21,density=True,bins=max(mnc21)-min(mnc21))\n",
        "plt.show()"
      ],
      "execution_count": null,
      "outputs": [
        {
          "output_type": "stream",
          "text": [
            "probabibilidad de tener 21 es de  0.1578574 ,cartas promedio por mano 3.413877968343581 ,maximo número de cartas para tener 21 = 10\n"
          ],
          "name": "stdout"
        },
        {
          "output_type": "display_data",
          "data": {
            "image/png": "[encoded data removed]",
            "text/plain": [
              "<Figure size 432x288 with 1 Axes>"
            ]
          },
          "metadata": {
            "tags": [],
            "needs_background": "light"
          }
        }
      ]
    },
    {
      "cell_type": "markdown",
      "metadata": {
        "id": "yJWhA6LZuG0t"
      },
      "source": [
        "# ***Baraja de Póker*** \n"
      ]
    },
    {
      "cell_type": "code",
      "metadata": {
        "id": "xAx2VTYphVt2",
        "colab": {
          "base_uri": "https://localhost:8080/",
          "height": 282
        },
        "outputId": "5bc53eea-b9d6-4273-cc1b-77b4fef53ca7"
      },
      "source": [
        "import random as r\n",
        "import matplotlib.pyplot as plt\n",
        "\n",
        "n = 1000000\n",
        "count =0\n",
        "avcnc=0\n",
        "mnc21=[]\n",
        "for i in range (n):\n",
        "    deck= [1,2,3,4,5,6,7,8,9,10,11,12,13,1,2,3,4,5,6,7,8,9,10,11,12,13,1,2,3,4,5,6,7,8,9,10,11,12,13,1,2,3,4,5,6,7,8,9,10,11,12,13] # mazo de cartas poker\n",
        "    my_cards=[]\n",
        "    nc=0\n",
        "    while(sum(my_cards)<21):\n",
        "        card = r.choice(deck)\n",
        "        my_cards.append(card)\n",
        "        deck.remove(card)\n",
        "        nc+= 1\n",
        "    if (sum(my_cards)==21):\n",
        "        count = count +1\n",
        "        avcnc = avcnc + nc\n",
        "        mnc21.append(nc)\n",
        "print(\"probabibilidad de tener 21 es de \" , count/n,\",cartas promedio por mano\", avcnc/count, \",maximo número de cartas para tener 21 =\",max(mnc21))\n",
        "plt.hist(mnc21,density=True,bins=max(mnc21)-min(mnc21))\n",
        "plt.show()"
      ],
      "execution_count": null,
      "outputs": [
        {
          "output_type": "stream",
          "text": [
            "probabibilidad de tener 21 es de  0.145244 ,cartas promedio por mano 3.2155889399906363 ,maximo número de cartas para tener 21 = 8\n"
          ],
          "name": "stdout"
        },
        {
          "output_type": "display_data",
          "data": {
            "image/png": "[encoded data removed]",
            "text/plain": [
              "<Figure size 432x288 with 1 Axes>"
            ]
          },
          "metadata": {
            "tags": [],
            "needs_background": "light"
          }
        }
      ]
    },
    {
      "cell_type": "markdown",
      "metadata": {
        "id": "w6vALklBRr1D"
      },
      "source": [
        "# **2.**"
      ]
    },
    {
      "cell_type": "markdown",
      "metadata": {
        "id": "f3N4Ct_1ucbC"
      },
      "source": [
        "# ***Baraja Española (tres 10's)*** \n"
      ]
    },
    {
      "cell_type": "code",
      "metadata": {
        "id": "NtLCk3rGhtyT",
        "colab": {
          "base_uri": "https://localhost:8080/",
          "height": 282
        },
        "outputId": "bc58fe9f-fd6a-48c1-f60c-ffa342147cad"
      },
      "source": [
        "import random as r\n",
        "import matplotlib.pyplot as plt\n",
        "\n",
        "n = 10000000\n",
        "count =0\n",
        "avcnc=0\n",
        "mnc21=[]\n",
        "for i in range (n):\n",
        "    deck= [1,2,3,4,5,6,7,8,9,10,10,10,1,2,3,4,5,6,7,8,9,10,10,10,1,2,3,4,5,6,7,8,9,10,10,10,1,2,3,4,5,6,7,8,9,10,10,10]\n",
        "    my_cards=[]\n",
        "    nc=0\n",
        "    while(sum(my_cards)<21):\n",
        "        card = r.choice(deck)\n",
        "        my_cards.append(card)\n",
        "        deck.remove(card)\n",
        "        nc+= 1\n",
        "    if (sum(my_cards)==21):\n",
        "        count = count +1\n",
        "        avcnc = avcnc + nc\n",
        "        mnc21.append(nc)\n",
        "print(\"probabibilidad de tener 21 es de \" , count/n,\",cartas promedio por mano\", avcnc/count, \",maximo número de cartas para tener 21 =\",max(mnc21))\n",
        "plt.hist(mnc21,density=True,bins=max(mnc21)-min(mnc21))\n",
        "plt.show()"
      ],
      "execution_count": null,
      "outputs": [
        {
          "output_type": "stream",
          "text": [
            "probabibilidad de tener 21 es de  0.1496299 ,cartas promedio por mano 3.698843613475649 ,maximo número de cartas para tener 21 = 9\n"
          ],
          "name": "stdout"
        },
        {
          "output_type": "display_data",
          "data": {
            "image/png": "[encoded data removed]",
            "text/plain": [
              "<Figure size 432x288 with 1 Axes>"
            ]
          },
          "metadata": {
            "tags": [],
            "needs_background": "light"
          }
        }
      ]
    },
    {
      "cell_type": "markdown",
      "metadata": {
        "id": "C9NVkzLfuuIL"
      },
      "source": [
        "# ***Baraja de Póker (cuatro 10's)*** \n"
      ]
    },
    {
      "cell_type": "code",
      "metadata": {
        "id": "ueciuL96iehC",
        "colab": {
          "base_uri": "https://localhost:8080/",
          "height": 286
        },
        "outputId": "0930d70c-430a-42d2-d9a1-687249c68287"
      },
      "source": [
        "import random as r\n",
        "import matplotlib.pyplot as plt\n",
        "\n",
        "n = 10000000\n",
        "count =0\n",
        "avcnc=0\n",
        "mnc21=[]\n",
        "for i in range (n):\n",
        "    deck= [1,2,3,4,5,6,7,8,9,10,10,10,10,1,2,3,4,5,6,7,8,9,10,10,10,10,1,2,3,4,5,6,7,8,9,10,10,10,10,1,2,3,4,5,6,7,8,9,10,10,10,10]\n",
        "    my_cards=[]\n",
        "    nc=0\n",
        "    while(sum(my_cards)<21):\n",
        "        card = r.choice(deck)\n",
        "        my_cards.append(card)\n",
        "        deck.remove(card)\n",
        "        nc+= 1\n",
        "    if (sum(my_cards)==21):\n",
        "        count = count +1\n",
        "        avcnc = avcnc + nc\n",
        "        mnc21.append(nc)\n",
        "print(\"probabibilidad de tener 21 es de \" , count/n,\",cartas promedio por mano\", avcnc/count, \",maximo número de cartas para tener 21 =\",max(mnc21))\n",
        "plt.hist(mnc21,density=True,bins=max(mnc21)-min(mnc21))\n",
        "plt.show()"
      ],
      "execution_count": null,
      "outputs": [
        {
          "output_type": "stream",
          "text": [
            "probabibilidad de tener 21 es de  0.1400933 ,cartas promedio por mano 3.5776528927507596 ,maximo número de cartas para tener 21 = 10\n"
          ],
          "name": "stdout"
        },
        {
          "output_type": "display_data",
          "data": {
            "image/png": "[encoded data removed]",
            "text/plain": [
              "<Figure size 432x288 with 1 Axes>"
            ]
          },
          "metadata": {
            "tags": [],
            "needs_background": "light"
          }
        }
      ]
    },
    {
      "cell_type": "markdown",
      "metadata": {
        "id": "w1K_jmW7RvI2"
      },
      "source": [
        "# **3.**"
      ]
    },
    {
      "cell_type": "markdown",
      "metadata": {
        "id": "w9ehu5J0ykOQ"
      },
      "source": [
        "# ***Baraja Española (con [7,7,5] acumulado)***"
      ]
    },
    {
      "cell_type": "code",
      "metadata": {
        "id": "HYHvDXL73PwB",
        "colab": {
          "base_uri": "https://localhost:8080/",
          "height": 285
        },
        "outputId": "c209abec-2dfb-464c-c800-7235a62f5666"
      },
      "source": [
        "import random as r\n",
        "import matplotlib.pyplot as plt\n",
        "\n",
        "n = 10000000\n",
        "count =0\n",
        "avcnc=0\n",
        "mnc21=[]\n",
        "deck= [1,2,3,4,6,8,9,10,11,12,1,2,3,4,5,6,8,9,10,11,12,1,2,3,4,5,6,7,8,9,10,11,12,1,2,3,4,5,6,7,8,9,10,11,12] #restriccion de tres 5's y dos 7's en el mazo\n",
        "\n",
        "while(len(deck)>(24)): # este ciclo lo que genera es sacar la cantidad n/2 de cartas aleatorias en el mazo, como es mazo español es igual a 24\n",
        "    deck.remove(r.choice(deck))\n",
        "\n",
        "for i in range (n):\n",
        "    my_cards=[7,7,5] #mi mano actual\n",
        "    fixed_half_deck = deck[:] # Hacemos una copia de la baraja fija n/2\n",
        "    nc=3 #cantidad de cartas en la mano\n",
        "    \n",
        "    while(sum(my_cards)<21):\n",
        "        card = r.choice(fixed_half_deck)\n",
        "        my_cards.append(card)\n",
        "        fixed_half_deck.remove(card)\n",
        "        nc+= 1\n",
        "    if (sum(my_cards)==21):\n",
        "        count = count +1\n",
        "        avcnc = avcnc + nc\n",
        "        mnc21.append(nc)\n",
        "print(\"probabibilidad de tener 21 es de \" , count/n,\",cartas promedio por mano\", avcnc/count, \",maximo número de cartas para tener 21 =\",max(mnc21))\n",
        "plt.hist(mnc21,density=True,bins=max(mnc21))\n",
        "plt.show()"
      ],
      "execution_count": null,
      "outputs": [
        {
          "output_type": "stream",
          "text": [
            "probabibilidad de tener 21 es de  0.0870169 ,cartas promedio por mano 4.041567787406814 ,maximo número de cartas para tener 21 = 5\n"
          ],
          "name": "stdout"
        },
        {
          "output_type": "display_data",
          "data": {
            "image/png": "[encoded data removed]",
            "text/plain": [
              "<Figure size 432x288 with 1 Axes>"
            ]
          },
          "metadata": {
            "tags": [],
            "needs_background": "light"
          }
        }
      ]
    },
    {
      "cell_type": "markdown",
      "metadata": {
        "id": "QdLxsZknyqiL"
      },
      "source": [
        "# ***Baraja de Póker (con [7,7,5] acumulado)***"
      ]
    },
    {
      "cell_type": "code",
      "metadata": {
        "id": "HsPnI1uf3QUM",
        "colab": {
          "base_uri": "https://localhost:8080/",
          "height": 282
        },
        "outputId": "ec7b98b0-862f-4cd5-e7c7-b5bc4014ec0a"
      },
      "source": [
        "import random as r\n",
        "import matplotlib.pyplot as plt\n",
        "\n",
        "n = 10000000\n",
        "count =0\n",
        "avcnc=0\n",
        "mnc21=[]\n",
        "deck= [1,2,3,4,6,8,9,10,11,12,13,1,2,3,4,5,6,8,9,10,11,12,13,1,2,3,4,5,6,7,8,9,10,11,12,13,1,2,3,4,5,6,7,8,9,10,11,12,13] #restriccion de tres 5's y dos 7's en el mazo\n",
        "\n",
        "while(len(deck)>(26)): # este ciclo lo que genera es sacar la cantidad n/2 de cartas aleatorias en el mazo, como es mazo de poker es igual a 26\n",
        "    deck.remove(r.choice(deck))\n",
        "\n",
        "for i in range (n):\n",
        "    my_cards=[7,7,5] #mi mano actual\n",
        "    fixed_half_deck = deck[:] # Hacemos una copia de la baraja fija n/2\n",
        "    nc=3 #cantidad de cartas en la mano\n",
        "    while(sum(my_cards)<21):\n",
        "        card = r.choice(fixed_half_deck)\n",
        "        my_cards.append(card)\n",
        "        fixed_half_deck.remove(card)\n",
        "        nc+= 1\n",
        "    if (sum(my_cards)==21):\n",
        "        count = count +1\n",
        "        avcnc = avcnc + nc\n",
        "        mnc21.append(nc)\n",
        "print(\"probabibilidad de tener 21 es de \" , count/n,\",cartas promedio por mano\", avcnc/count, \",maximo número de cartas para tener 21 =\",max(mnc21))\n",
        "plt.hist(mnc21,density=True,bins=max(mnc21))\n",
        "plt.show()"
      ],
      "execution_count": null,
      "outputs": [
        {
          "output_type": "stream",
          "text": [
            "probabibilidad de tener 21 es de  0.0477167 ,cartas promedio por mano 4.193466857515293 ,maximo número de cartas para tener 21 = 5\n"
          ],
          "name": "stdout"
        },
        {
          "output_type": "display_data",
          "data": {
            "image/png": "[encoded data removed]",
            "text/plain": [
              "<Figure size 432x288 with 1 Axes>"
            ]
          },
          "metadata": {
            "tags": [],
            "needs_background": "light"
          }
        }
      ]
    },
    {
      "cell_type": "markdown",
      "metadata": {
        "id": "EaSQkvajRzAw"
      },
      "source": [
        "# **4.**"
      ]
    },
    {
      "cell_type": "markdown",
      "metadata": {
        "id": "6o4RcjpJ69Q-"
      },
      "source": [
        "# ***Baraja Española Hot Deck (con [7,7,5] acumulado)(8 posibles)***"
      ]
    },
    {
      "cell_type": "code",
      "metadata": {
        "id": "9SQpwDBD-KWg",
        "colab": {
          "base_uri": "https://localhost:8080/",
          "height": 282
        },
        "outputId": "a10175a1-e7cb-41ac-d217-1a298ee9e213"
      },
      "source": [
        "import random as r\n",
        "import matplotlib.pyplot as plt\n",
        "\n",
        "n = 10000000\n",
        "count =0\n",
        "avcnc=0\n",
        "mnc21=[]\n",
        "for i in range (n):\n",
        "    deck= [1,1,1,1,2,2,2,2] # 4 posibles carte de 1 y 4 posibles cartas de 2, \"hot deck\"\n",
        "    my_cards=[7,7,5]\n",
        "    nc=3\n",
        "    while (sum(my_cards)<21):\n",
        "        card = r.choice(deck)\n",
        "        my_cards.append(card)\n",
        "        deck.remove(card)\n",
        "        nc+= 1\n",
        "    if (sum(my_cards)==21):\n",
        "        count = count +1\n",
        "        avcnc = avcnc + nc\n",
        "        mnc21.append(nc)\n",
        "print(\"probabibilidad de tener 21 es de \" , count/n,\",cartas promedio por mano\", avcnc/count, \",maximo número de cartas para tener 21 =\",max(mnc21))\n",
        "plt.hist(mnc21,density=True,bins=max(mnc21))\n",
        "plt.show()"
      ],
      "execution_count": null,
      "outputs": [
        {
          "output_type": "stream",
          "text": [
            "probabibilidad de tener 21 es de  0.7141732 ,cartas promedio por mano 4.299900220282699 ,maximo número de cartas para tener 21 = 5\n"
          ],
          "name": "stdout"
        },
        {
          "output_type": "display_data",
          "data": {
            "image/png": "[encoded data removed]",
            "text/plain": [
              "<Figure size 432x288 with 1 Axes>"
            ]
          },
          "metadata": {
            "tags": [],
            "needs_background": "light"
          }
        }
      ]
    },
    {
      "cell_type": "markdown",
      "metadata": {
        "id": "nH0cezP9C0bL"
      },
      "source": [
        "# ***Baraja Española Cold Deck (con [7,7,5] acumulado)(8 posibles)***"
      ]
    },
    {
      "cell_type": "code",
      "metadata": {
        "id": "NaqEQCWtC3gY",
        "colab": {
          "base_uri": "https://localhost:8080/",
          "height": 282
        },
        "outputId": "a9dd2e03-c31b-4e67-cc3b-ea028db836c0"
      },
      "source": [
        "import random as r\n",
        "import matplotlib.pyplot as plt\n",
        "\n",
        "n = 10000000\n",
        "countint=0\n",
        "count =0\n",
        "avcnc=0\n",
        "mnc21=[]\n",
        "for i in range (n):\n",
        "    deck= [3,4,5,6,7,8,9,10] # estos numeros son arbitrarios pero representan toda carta diferente a 1 ó  2   \"Cold Deck\"\n",
        "    my_cards=[7,7,5]\n",
        "    nc=3\n",
        "    while (sum(my_cards)<21):\n",
        "        card = r.choice(deck)\n",
        "        my_cards.append(card)\n",
        "        deck.remove(card)\n",
        "        nc+= 1\n",
        "    if (sum(my_cards)==21):\n",
        "        count = count +1\n",
        "        avcnc = avcnc + nc\n",
        "        mnc21.append(nc)\n",
        "if (count ==0):\n",
        "    print(\"probabibilidad de tener 21 es de \" , count,\",cartas promedio por mano\", count, \",maximo número de cartas para tener 21 =\",count)\n",
        "    plt.hist(count,density=True,bins=[])\n",
        "else :\n",
        "    print(\"probabibilidad de tener 21 es de \" , count/n,\",cartas promedio por mano\", avcnc/count, \",maximo número de cartas para tener 21 =\",max(mnc21))\n",
        "    plt.hist(mnc21,density=True,bins=max(mnc21))\n",
        "plt.show()"
      ],
      "execution_count": null,
      "outputs": [
        {
          "output_type": "stream",
          "text": [
            "probabibilidad de tener 21 es de  0 ,cartas promedio por mano 0 ,maximo número de cartas para tener 21 = 0\n"
          ],
          "name": "stdout"
        },
        {
          "output_type": "display_data",
          "data": {
            "image/png": "[encoded data removed]",
            "text/plain": [
              "<Figure size 432x288 with 1 Axes>"
            ]
          },
          "metadata": {
            "tags": [],
            "needs_background": "light"
          }
        }
      ]
    },
    {
      "cell_type": "markdown",
      "metadata": {
        "id": "-gZ4ah476_Wh"
      },
      "source": [
        "# ***Baraja de Póker Hot Deck (con [7,7,5] acumulado)(8 posibles)***"
      ]
    },
    {
      "cell_type": "code",
      "metadata": {
        "id": "FsDLvQPw-QGP",
        "colab": {
          "base_uri": "https://localhost:8080/",
          "height": 282
        },
        "outputId": "2e8f6412-3832-40de-f426-82f088bc5042"
      },
      "source": [
        "import random as r\n",
        "import matplotlib.pyplot as plt\n",
        "\n",
        "n = 10000000\n",
        "count =0\n",
        "avcnc=0\n",
        "mnc21=[]\n",
        "for i in range (n):\n",
        "    deck= [1,1,1,1,2,2,2,2] # # 4 posibles carte de 1 y 4 posibles cartas de 2 \"hot deck\"\n",
        "    my_cards=[7,7,5]\n",
        "    nc=3\n",
        "    while (sum(my_cards)<21):\n",
        "        card = r.choice(deck)\n",
        "        my_cards.append(card)\n",
        "        deck.remove(card)\n",
        "        nc+= 1\n",
        "    if (sum(my_cards)==21):\n",
        "        count = count +1\n",
        "        avcnc = avcnc + nc\n",
        "        mnc21.append(nc)\n",
        "print(\"probabibilidad de tener 21 es de \" , count/n,\",cartas promedio por mano\", avcnc/count, \",maximo número de cartas para tener 21 =\",max(mnc21))\n",
        "plt.hist(mnc21,density=True,bins=max(mnc21))\n",
        "plt.show()"
      ],
      "execution_count": null,
      "outputs": [
        {
          "output_type": "stream",
          "text": [
            "probabibilidad de tener 21 es de  0.7142967 ,cartas promedio por mano 4.2999242471650785 ,maximo número de cartas para tener 21 = 5\n"
          ],
          "name": "stdout"
        },
        {
          "output_type": "display_data",
          "data": {
            "image/png": "[encoded data removed]",
            "text/plain": [
              "<Figure size 432x288 with 1 Axes>"
            ]
          },
          "metadata": {
            "tags": [],
            "needs_background": "light"
          }
        }
      ]
    },
    {
      "cell_type": "markdown",
      "metadata": {
        "id": "kT2B6RFgC58J"
      },
      "source": [
        "# ***Baraja de Póker Cold Deck (con [7,7,5] acumulado)(8 posibles)***"
      ]
    },
    {
      "cell_type": "code",
      "metadata": {
        "id": "DBBTIUR2C8dS",
        "colab": {
          "base_uri": "https://localhost:8080/",
          "height": 282
        },
        "outputId": "e50988e9-3ac1-42a2-9b01-e26584691b13"
      },
      "source": [
        "import random as r\n",
        "import matplotlib.pyplot as plt\n",
        "\n",
        "n = 10000000\n",
        "countint=0\n",
        "count =0\n",
        "avcnc=0\n",
        "mnc21=[]\n",
        "for i in range (n):\n",
        "    deck= [3,3,3,3,4,4,4,4] # estos numeros son arbitrarios pero representan toda carta diferente a 1 ó  2   \"Cold Deck\"\n",
        "    my_cards=[7,7,5]\n",
        "    nc=3\n",
        "    while (sum(my_cards)<21):\n",
        "        card = r.choice(deck)\n",
        "        my_cards.append(card)\n",
        "        deck.remove(card)\n",
        "        nc+= 1\n",
        "    if (sum(my_cards)==21):\n",
        "        count = count +1\n",
        "        avcnc = avcnc + nc\n",
        "        mnc21.append(nc)\n",
        "if (count ==0):\n",
        "    print(\"probabibilidad de tener 21 es de \" , count,\",cartas promedio por mano\", count, \",maximo número de cartas para tener 21 =\",count)\n",
        "    plt.hist(count,density=True,bins=[])\n",
        "else :\n",
        "    print(\"probabibilidad de tener 21 es de \" , count/n,\",cartas promedio por mano\", avcnc/count, \",maximo número de cartas para tener 21 =\",max(mnc21))\n",
        "    plt.hist(mnc21,density=True,bins=max(mnc21))\n",
        "plt.show()"
      ],
      "execution_count": null,
      "outputs": [
        {
          "output_type": "stream",
          "text": [
            "probabibilidad de tener 21 es de  0 ,cartas promedio por mano 0 ,maximo número de cartas para tener 21 = 0\n"
          ],
          "name": "stdout"
        },
        {
          "output_type": "display_data",
          "data": {
            "image/png": "[encoded data removed]",
            "text/plain": [
              "<Figure size 432x288 with 1 Axes>"
            ]
          },
          "metadata": {
            "tags": [],
            "needs_background": "light"
          }
        }
      ]
    },
    {
      "cell_type": "markdown",
      "metadata": {
        "id": "AZEpOyBsR5wr"
      },
      "source": [
        "# **5.**"
      ]
    },
    {
      "cell_type": "markdown",
      "metadata": {
        "id": "JrU0e4uzUcew"
      },
      "source": [
        "\n",
        " # ***¿Cuánto gana Ben con Baraja Española?***"
      ]
    },
    {
      "cell_type": "code",
      "metadata": {
        "id": "C6sYcG2MUdsv",
        "colab": {
          "base_uri": "https://localhost:8080/"
        },
        "outputId": "c1c7b305-c008-4f33-d9e7-028bee8d2f90"
      },
      "source": [
        "import random as r\n",
        "import matplotlib.pyplot as plt\n",
        "\n",
        "averageWin=[]\n",
        "for j in range(10000):\n",
        "  wekeend_days=3     # fin de semana\n",
        "  hours_a_day=10     # horas al dia jugando\n",
        "  games_per_hour=20  # 3 minutos por juego es igual a 20 juegos por hora ;)\n",
        "  total_tries=wekeend_days*hours_a_day*games_per_hour #total intentos de juego en un fin de semana\n",
        "  n = total_tries\n",
        "  counth=0\n",
        "  counthtries=0\n",
        "  countc=0\n",
        "  countctries=0\n",
        "  avcnch=0\n",
        "  avcncc=0\n",
        "  mnc21h=[]\n",
        "  mnc21c=[]\n",
        "  for i in range (n):\n",
        "    aleatorio = r.random()\n",
        "    if (aleatorio < 0.1):\n",
        "      deck= [1,1,1,1,2,2,2,2] # las 8 posibles cartas para   \"Hot Deck\"\n",
        "      my_cards=[7,7,5]\n",
        "      nc=3\n",
        "      counthtries +=1\n",
        "      while (sum(my_cards)<21):\n",
        "        card = r.choice(deck)\n",
        "        my_cards.append(card)\n",
        "        deck.remove(card)\n",
        "        nc+= 1\n",
        "      if (sum(my_cards)==21):\n",
        "        counth +=1\n",
        "        avcnch = avcnch + nc\n",
        "        mnc21h.append(nc)\n",
        "    else:\n",
        "      deck= [1,2,3,4,5,6,7,8,9,10,11,12,1,2,3,4,5,6,7,8,9,10,11,12,1,2,3,4,5,6,7,8,9,10,11,12,1,2,3,4,5,6,7,8,9,10,11,12] # \"Cold Deck\"\n",
        "      my_cards=[]\n",
        "      nc=0\n",
        "      countctries +=1\n",
        "      while (sum(my_cards)<21):\n",
        "        card = r.choice(deck)\n",
        "        my_cards.append(card)\n",
        "        deck.remove(card)\n",
        "        nc+= 1\n",
        "      if (sum(my_cards)==21):\n",
        "        countc +=1\n",
        "        avcncc = avcncc + nc\n",
        "        mnc21c.append(nc)\n",
        "    \n",
        "#print(\"probabibilidad de tener 21 para Hot Deck es de \" , counth/counthtries,\",cartas promedio por mano\", avcnch/counth, \",maximo número de cartas para tener 21 =\",max(mnc21h),\",Ben termina con $\" , 1000*(counth-counthtries),\",número de intentos\",counthtries)\n",
        "#print(\"probabibilidad de tener 21 para Cold Deck es de \" , countc/countctries,\",cartas promedio por mano\", avcncc/countc, \",maximo número de cartas para tener 21 =\",max(mnc21c),\",Ben termina con $\" , 10*(countc-countctries),\",número de intentos\",countctries)\n",
        "averageWin=(1000*(counth-(counthtries-counth))+10*(countc-(countctries-countc))) # prom ganancia = (1000$ * (cantidad de intentos ganados hot deck - los intentos perdidos hot deck) + 10$ * ((cantidad de intentos ganados hot deck - los intentos perdidos hot deck))\n",
        "print(\"Ben gana\",averageWin)"
      ],
      "execution_count": null,
      "outputs": [
        {
          "output_type": "stream",
          "text": [
            "Ben gana 26280\n"
          ],
          "name": "stdout"
        }
      ]
    },
    {
      "cell_type": "markdown",
      "metadata": {
        "id": "QBXY7VYlHsME"
      },
      "source": [
        "# ***¿Cuanto gana Ben con Baraja de Póker?***"
      ]
    },
    {
      "cell_type": "code",
      "metadata": {
        "id": "WSWl-Gw8HwU5",
        "colab": {
          "base_uri": "https://localhost:8080/"
        },
        "outputId": "b25c945d-5443-4ffc-d55c-8e98e9338545"
      },
      "source": [
        "import random as r\n",
        "import matplotlib.pyplot as plt\n",
        "\n",
        "averageWin=[]\n",
        "for j in range(10000):\n",
        "  wekeend_days=3     # fin de semana\n",
        "  hours_a_day=10     # horas al dia jugando\n",
        "  games_per_hour=20  # 3 minutos por juego es igual a 20 juegos por hora ;)\n",
        "  total_tries=wekeend_days*hours_a_day*games_per_hour #total intentos de juego en un fin de semana\n",
        "  n = total_tries\n",
        "  counth=0\n",
        "  counthtries=0\n",
        "  countc=0\n",
        "  countctries=0\n",
        "  avcnch=0\n",
        "  avcncc=0\n",
        "  mnc21h=[]\n",
        "  mnc21c=[]\n",
        "  for i in range (n):\n",
        "    aleatorio = r.random()\n",
        "    if (aleatorio < 0.1):\n",
        "      deck= [1,1,1,1,2,2,2,2] # las 8 posibles cartas para   \"Hot Deck\"\n",
        "      my_cards=[7,7,5]\n",
        "      nc=3\n",
        "      counthtries +=1\n",
        "      while (sum(my_cards)<21):\n",
        "        card = r.choice(deck)\n",
        "        my_cards.append(card)\n",
        "        deck.remove(card)\n",
        "        nc+= 1\n",
        "      if (sum(my_cards)==21):\n",
        "        counth +=1\n",
        "        avcnch = avcnch + nc\n",
        "        mnc21h.append(nc)\n",
        "    else:\n",
        "      deck= [1,2,3,4,5,6,7,8,9,10,11,12,13,1,2,3,4,5,6,7,8,9,10,11,12,13,1,2,3,4,5,6,7,8,9,10,11,12,13,1,2,3,4,5,6,7,8,9,10,11,12,13] #\"Cold Deck\"\n",
        "      my_cards=[]\n",
        "      nc=0\n",
        "      countctries +=1\n",
        "      while (sum(my_cards)<21):\n",
        "        card = r.choice(deck)\n",
        "        my_cards.append(card)\n",
        "        deck.remove(card)\n",
        "        nc+= 1\n",
        "      if (sum(my_cards)==21):\n",
        "        countc +=1\n",
        "        avcncc = avcncc + nc\n",
        "        mnc21c.append(nc)\n",
        "    \n",
        "#print(\"probabibilidad de tener 21 para Hot Deck es de \" , counth/counthtries,\",cartas promedio por mano\", avcnch/counth, \",maximo número de cartas para tener 21 =\",max(mnc21h),\",Ben termina con $\" , 1000*(counth-counthtries),\",número de intentos\",counthtries)\n",
        "#print(\"probabibilidad de tener 21 para Cold Deck es de \" , countc/countctries,\",cartas promedio por mano\", avcncc/countc, \",maximo número de cartas para tener 21 =\",max(mnc21c),\",Ben termina con $\" , 10*(countc-countctries),\",número de intentos\",countctries)\n",
        "averageWin=(1000*(counth-(counthtries-counth))+10*(countc-(countctries-countc))) # prom ganancia = (1000$ * (cantidad de intentos ganados hot deck - los intentos perdidos hot deck) + 10$ * ((cantidad de intentos ganados hot deck - los intentos perdidos hot deck))\n",
        "print(\"Ben gana\",averageWin)"
      ],
      "execution_count": null,
      "outputs": [
        {
          "output_type": "stream",
          "text": [
            "Ben gana 18260\n"
          ],
          "name": "stdout"
        }
      ]
    }
  ]
}