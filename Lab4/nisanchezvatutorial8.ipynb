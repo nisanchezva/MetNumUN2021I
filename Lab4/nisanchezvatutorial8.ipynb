{
 "cells": [
  {
   "cell_type": "markdown",
   "metadata": {},
   "source": [
    "![QuantConnect Logo](https://cdn.quantconnect.com/web/i/icon.png)\n",
    "<hr>"
   ]
  },
  {
   "cell_type": "code",
   "execution_count": 10,
   "metadata": {},
   "outputs": [
    {
     "name": "stdout",
     "output_type": "stream",
     "text": [
      "Population mean: 0.0005336056353829478\n",
      "Population standard deviation: 0.010858387190576989\n"
     ]
    }
   ],
   "source": [
    "import matplotlib.pyplot as plt\n",
    "import numpy as np\n",
    "import pandas as pd\n",
    "\n",
    "qb = QuantBook()\n",
    "spy = qb.AddEquity(\"SPY\").Symbol\n",
    "\n",
    "#get SPY data from August 2010 to the present\n",
    "start_date = datetime(2011, 1, 1, 0, 0, 0)\n",
    "end_date = qb.Time\n",
    "spy_table = qb.History(spy, start_date, end_date, Resolution.Daily)\n",
    "spy_total = spy_table[['open','close']]\n",
    "\n",
    "#calculate log returns\n",
    "spy_log_return = np.log(spy_total.close).diff().dropna()\n",
    "print('Population mean:', np.mean(spy_log_return))\n",
    "print('Population standard deviation:',np.std(spy_log_return))"
   ]
  },
  {
   "cell_type": "code",
   "execution_count": 11,
   "metadata": {},
   "outputs": [
    {
     "name": "stdout",
     "output_type": "stream",
     "text": [
      "Population mean: 0.0005807666711732725\n",
      "Population standard deviation: 0.010386881654747465\n"
     ]
    }
   ],
   "source": [
    "start_date2 = datetime(2012, 1, 1, 0, 0, 0)\n",
    "end_date2 = qb.Time\n",
    "spy_table2 = qb.History(spy, start_date2, end_date2, Resolution.Daily)\n",
    "spy_total2 = spy_table2[['open','close']]\n",
    "spy_log_return2 = np.log(spy_total2.close).diff().dropna()\n",
    "print('Population mean:', np.mean(spy_log_return2))\n",
    "print('Population standard deviation:',np.std(spy_log_return2))"
   ]
  },
  {
   "cell_type": "code",
   "execution_count": 12,
   "metadata": {},
   "outputs": [
    {
     "name": "stdout",
     "output_type": "stream",
     "text": [
      "10 days sample returns: 0.00544075061406053\n",
      "10 days sample standard deviation: 0.006150434248620291\n",
      "1000 days sample returns: 0.000641170657247283\n",
      "1000 days sample standard deviation: 0.012939306588505011\n"
     ]
    }
   ],
   "source": [
    "print ('10 days sample returns:', np.mean(spy_log_return.tail(10)))\n",
    "print ('10 days sample standard deviation:', np.std(spy_log_return.tail(10)))\n",
    "print ('1000 days sample returns:', np.mean(spy_log_return.tail(1000)))\n",
    "print ('1000 days sample standard deviation:', np.std(spy_log_return.tail(1000)))\n"
   ]
  },
  {
   "cell_type": "code",
   "execution_count": 13,
   "metadata": {},
   "outputs": [
    {
     "name": "stdout",
     "output_type": "stream",
     "text": [
      "6 days sample returns: 0.00625625348781611\n",
      "6 days sample standard deviation: 0.0051673311355363025\n",
      "500 days sample returns: 0.0007722798862556086\n",
      "500 days sample standard deviation: 0.016154117972342695\n"
     ]
    }
   ],
   "source": [
    "print ('6 days sample returns:', np.mean(spy_log_return2.tail(6)))\n",
    "print ('6 days sample standard deviation:', np.std(spy_log_return2.tail(6)))\n",
    "print ('500 days sample returns:', np.mean(spy_log_return2.tail(500)))\n",
    "print ('500 days sample standard deviation:', np.std(spy_log_return2.tail(500)))"
   ]
  },
  {
   "cell_type": "code",
   "execution_count": 14,
   "metadata": {},
   "outputs": [
    {
     "name": "stdout",
     "output_type": "stream",
     "text": [
      "10 days 95% confidence inverval: (0.0016286719724102287, 0.009252829255710832)\n",
      "1000 days 95% confidence inverval: (-0.00016081587394553586, 0.0014431571884401019)\n"
     ]
    }
   ],
   "source": [
    "bottom_1 = np.mean(spy_log_return.tail(10))-1.96*np.std(spy_log_return.tail(10))/(np.sqrt(len((spy_log_return.tail(10)))))\n",
    "upper_1 = np.mean(spy_log_return.tail(10))+1.96*np.std(spy_log_return.tail(10))/(np.sqrt(len((spy_log_return.tail(10)))))\n",
    "bottom_2 = np.mean(spy_log_return.tail(1000))-1.96*np.std(spy_log_return.tail(1000))/(np.sqrt(len((spy_log_return.tail(1000)))))\n",
    "upper_2 = np.mean(spy_log_return.tail(1000))+1.96*np.std(spy_log_return.tail(1000))/(np.sqrt(len((spy_log_return.tail(1000)))))\n",
    "print ('10 days 95% confidence inverval:', (bottom_1,upper_1))\n",
    "print ('1000 days 95% confidence inverval:', (bottom_2,upper_2))"
   ]
  },
  {
   "cell_type": "code",
   "execution_count": 15,
   "metadata": {},
   "outputs": [
    {
     "name": "stdout",
     "output_type": "stream",
     "text": [
      "6 days 95% confidence inverval: (0.002121527447223071, 0.01039097952840915)\n",
      "500 days 95% confidence inverval: (-0.0006436909851305974, 0.0021882507576418144)\n"
     ]
    }
   ],
   "source": [
    "bottom_12 = np.mean(spy_log_return2.tail(6))-1.96*np.std(spy_log_return2.tail(6))/(np.sqrt(len((spy_log_return2.tail(6)))))\n",
    "upper_12 = np.mean(spy_log_return2.tail(6))+1.96*np.std(spy_log_return2.tail(6))/(np.sqrt(len((spy_log_return2.tail(6)))))\n",
    "bottom_22 = np.mean(spy_log_return2.tail(500))-1.96*np.std(spy_log_return2.tail(500))/(np.sqrt(len((spy_log_return2.tail(500)))))\n",
    "upper_22 = np.mean(spy_log_return2.tail(500))+1.96*np.std(spy_log_return2.tail(500))/(np.sqrt(len((spy_log_return2.tail(500)))))\n",
    "print ('6 days 95% confidence inverval:', (bottom_12,upper_12))\n",
    "print ('500 days 95% confidence inverval:', (bottom_22,upper_22))"
   ]
  },
  {
   "cell_type": "code",
   "execution_count": 16,
   "metadata": {},
   "outputs": [
    {
     "name": "stdout",
     "output_type": "stream",
     "text": [
      "mean_10      0.005441\n",
      "std_10       0.006150\n",
      "mean_1000    0.000641\n",
      "std_1000     0.012939\n",
      "dtype: float64\n"
     ]
    }
   ],
   "source": [
    "mean_10 = np.mean(spy_log_return.tail(10))\n",
    "std_10 = np.std(spy_log_return.tail(10))\n",
    "mean_1000 = np.mean(spy_log_return.tail(1000))\n",
    "std_1000 = np.std(spy_log_return.tail(1000))\n",
    "s = pd.Series([mean_10,std_10,mean_1000,std_1000],index = ['mean_10', 'std_10','mean_1000','std_1000'])\n",
    "print (s)"
   ]
  },
  {
   "cell_type": "code",
   "execution_count": 17,
   "metadata": {},
   "outputs": [
    {
     "name": "stdout",
     "output_type": "stream",
     "text": [
      "mean_6      0.006256\n",
      "std_6       0.005167\n",
      "mean_500    0.000772\n",
      "std_500     0.016154\n",
      "dtype: float64\n"
     ]
    }
   ],
   "source": [
    "mean_6 = np.mean(spy_log_return2.tail(6))\n",
    "std_6 = np.std(spy_log_return2.tail(6))\n",
    "mean_500 = np.mean(spy_log_return2.tail(500))\n",
    "std_500 = np.std(spy_log_return2.tail(500))\n",
    "s2 = pd.Series([mean_6,std_6,mean_500,std_500],index = ['mean_6', 'std_6','mean_500','std_500'])\n",
    "print (s2)"
   ]
  },
  {
   "cell_type": "code",
   "execution_count": 18,
   "metadata": {},
   "outputs": [
    {
     "name": "stdout",
     "output_type": "stream",
     "text": [
      "-0.0006710499546715423 0.0006710499546715423\n"
     ]
    }
   ],
   "source": [
    "bottom = 0 - 1.64*std_1000/np.sqrt(1000)\n",
    "upper = 0 + 1.64*std_1000/np.sqrt(1000)\n",
    "print (bottom, upper)"
   ]
  },
  {
   "cell_type": "code",
   "execution_count": 19,
   "metadata": {},
   "outputs": [
    {
     "name": "stdout",
     "output_type": "stream",
     "text": [
      "-0.001184791953608866 0.001184791953608866\n"
     ]
    }
   ],
   "source": [
    "bottom2 = 0 - 1.64*std_500/np.sqrt(500)\n",
    "upper2 = 0 + 1.64*std_500/np.sqrt(500)\n",
    "print (bottom2, upper2)"
   ]
  },
  {
   "cell_type": "code",
   "execution_count": 20,
   "metadata": {},
   "outputs": [
    {
     "name": "stdout",
     "output_type": "stream",
     "text": [
      "-0.0008019865311928189 0.0008019865311928189\n"
     ]
    }
   ],
   "source": [
    "bottom = 0 - 1.96*std_1000/np.sqrt(1000)\n",
    "upper = 0 + 1.96*std_1000/np.sqrt(1000)\n",
    "print (bottom, upper)"
   ]
  },
  {
   "cell_type": "code",
   "execution_count": 21,
   "metadata": {},
   "outputs": [
    {
     "name": "stdout",
     "output_type": "stream",
     "text": [
      "-0.001415970871386206 0.001415970871386206\n"
     ]
    }
   ],
   "source": [
    "bottom2 = 0 - 1.96*std_500/np.sqrt(500)\n",
    "upper2 = 0 + 1.96*std_500/np.sqrt(500)\n",
    "print (bottom2, upper2)"
   ]
  },
  {
   "cell_type": "code",
   "execution_count": 22,
   "metadata": {},
   "outputs": [
    {
     "name": "stdout",
     "output_type": "stream",
     "text": [
      "1.56697704927233\n"
     ]
    }
   ],
   "source": [
    "print (np.sqrt(1000)*(mean_1000 - 0)/std_1000)"
   ]
  },
  {
   "cell_type": "code",
   "execution_count": 23,
   "metadata": {},
   "outputs": [
    {
     "name": "stdout",
     "output_type": "stream",
     "text": [
      "1.0689969741956225\n"
     ]
    }
   ],
   "source": [
    "print (np.sqrt(500)*(mean_500 - 0)/std_500)"
   ]
  },
  {
   "cell_type": "code",
   "execution_count": 24,
   "metadata": {},
   "outputs": [
    {
     "name": "stdout",
     "output_type": "stream",
     "text": [
      "0.02565965688799665\n"
     ]
    }
   ],
   "source": [
    "import scipy.stats as st\n",
    "print (1 - st.norm.cdf(1.9488))"
   ]
  },
  {
   "cell_type": "code",
   "execution_count": 25,
   "metadata": {},
   "outputs": [
    {
     "name": "stdout",
     "output_type": "stream",
     "text": [
      "z-score =  1.8356414237345327\n",
      "p_value =  0.033205353228763945\n"
     ]
    }
   ],
   "source": [
    "mean_1200 = np.mean(spy_log_return.tail(1200))\n",
    "std_1200 = np.std(spy_log_return.tail(1200))\n",
    "z_score = np.sqrt(1200)*(mean_1200 - 0)/std_1200\n",
    "print ('z-score = ',z_score)\n",
    "p_value = (1 - st.norm.cdf(z_score))\n",
    "print ('p_value = ',p_value)"
   ]
  },
  {
   "cell_type": "code",
   "execution_count": 26,
   "metadata": {},
   "outputs": [
    {
     "name": "stdout",
     "output_type": "stream",
     "text": [
      "z-score =  1.198266676329723\n",
      "p_value =  0.11540660763009503\n"
     ]
    }
   ],
   "source": [
    "mean_600 = np.mean(spy_log_return2.tail(600))\n",
    "std_600 = np.std(spy_log_return2.tail(600))\n",
    "z_score2 = np.sqrt(600)*(mean_600 - 0)/std_600\n",
    "print ('z-score = ',z_score2)\n",
    "p_value2 = (1 - st.norm.cdf(z_score2))\n",
    "print ('p_value = ',p_value2)"
   ]
  },
  {
   "cell_type": "code",
   "execution_count": null,
   "metadata": {},
   "outputs": [],
   "source": []
  }
 ],
 "metadata": {
  "kernelspec": {
   "display_name": "Python 3",
   "language": "python",
   "name": "python3"
  },
  "language_info": {
   "codemirror_mode": {
    "name": "ipython",
    "version": 3
   },
   "file_extension": ".py",
   "mimetype": "text/x-python",
   "name": "python",
   "nbconvert_exporter": "python",
   "pygments_lexer": "ipython3",
   "version": "3.6.8"
  }
 },
 "nbformat": 4,
 "nbformat_minor": 2
}
