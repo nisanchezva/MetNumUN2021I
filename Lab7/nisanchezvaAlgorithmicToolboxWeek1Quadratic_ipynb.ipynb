{
  "nbformat": 4,
  "nbformat_minor": 0,
  "metadata": {
    "colab": {
      "name": "nisanchezvaAlgorithmicToolboxWeek1Quadratic.ipynb.ipynb",
      "provenance": [],
      "collapsed_sections": []
    },
    "kernelspec": {
      "name": "python3",
      "display_name": "Python 3"
    },
    "language_info": {
      "name": "python"
    }
  },
  "cells": [
    {
      "cell_type": "code",
      "metadata": {
        "id": "nJoonGeiUo4y"
      },
      "source": [
        "import math\n",
        "def cuadratica(b, c):\n",
        "  d = b**2-(4*c)\n",
        "\n",
        "  if(d == b**2):\n",
        "    raiz1 = -b\n",
        "    raiz2 = c/raiz1\n",
        "  elif (d < 0):\n",
        "    raiz1 = complex(-b/2, math.sqrt(-d)/2)\n",
        "    raiz2 = complex(-b/2, -math.sqrt(-d)/2)\n",
        "  else:\n",
        "    raiz1 = (-b + math.sqrt(d))/2\n",
        "    raiz2 = (-b - math.sqrt(d))/2\n",
        "  \n",
        "  return raiz1,raiz2"
      ],
      "execution_count": 7,
      "outputs": []
    },
    {
      "cell_type": "code",
      "metadata": {
        "id": "jUwsF_NfZrYz"
      },
      "source": [
        "variants = [{'b': 4.0, 'c': 3.0},\n",
        "            {'b': 2.0, 'c': 1.0},\n",
        "            {'b': 0.5, 'c': 4.0},\n",
        "            {'b': 1e10, 'c': 3.0},\n",
        "            {'b': -1e10, 'c': 4.0},]"
      ],
      "execution_count": 2,
      "outputs": []
    },
    {
      "cell_type": "code",
      "metadata": {
        "colab": {
          "base_uri": "https://localhost:8080/"
        },
        "id": "np2mZ2ZxaCDU",
        "outputId": "a7f00df5-0ade-4888-a5b5-da4c1a41c478"
      },
      "source": [
        "for var in variants:\n",
        "  raiz1, raiz2 = cuadratica(**var)\n",
        "  print(raiz1,raiz2)"
      ],
      "execution_count": 8,
      "outputs": [
        {
          "output_type": "stream",
          "text": [
            "-1.0 -3.0\n",
            "-1.0 -1.0\n",
            "(-0.25+1.984313483298443j) (-0.25-1.984313483298443j)\n",
            "-10000000000.0 -3e-10\n",
            "10000000000.0 4e-10\n"
          ],
          "name": "stdout"
        }
      ]
    }
  ]
}